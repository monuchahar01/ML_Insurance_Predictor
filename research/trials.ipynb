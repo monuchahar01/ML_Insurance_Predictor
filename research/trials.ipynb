{
 "cells": [
  {
   "cell_type": "code",
   "execution_count": 1,
   "metadata": {},
   "outputs": [],
   "source": [
    "from dataclasses import dataclass\n",
    "from pathlib import Path"
   ]
  },
  {
   "cell_type": "code",
   "execution_count": 2,
   "metadata": {},
   "outputs": [],
   "source": [
    "import os\n",
    "os.chdir(\"E:/Documents/d_s/full_stack/ML_project\")"
   ]
  },
  {
   "cell_type": "code",
   "execution_count": 3,
   "metadata": {},
   "outputs": [
    {
     "data": {
      "text/plain": [
       "'E:\\\\Documents\\\\d_s\\\\full_stack\\\\ML_project'"
      ]
     },
     "execution_count": 3,
     "metadata": {},
     "output_type": "execute_result"
    }
   ],
   "source": [
    "os.getcwd()"
   ]
  },
  {
   "cell_type": "code",
   "execution_count": 4,
   "metadata": {},
   "outputs": [],
   "source": [
    "from xmlrpc.client import Boolean\n",
    "\n",
    "\n",
    "@dataclass(frozen=True)\n",
    "class DataIngestionConfig:\n",
    "    root_dir: Path\n",
    "    source_data_path: Path\n",
    "    source_file: str\n",
    "    raw_dir: str\n",
    "    ingested_train_dir: Path\n",
    "    ingested_test_dir: Path\n",
    "\n",
    "@dataclass(frozen=True)\n",
    "class DataIngestionArtifact:\n",
    "    train_file_path: Path\n",
    "    test_file_path: Path\n",
    "    is_ingested: bool\n",
    "    message: str"
   ]
  },
  {
   "cell_type": "code",
   "execution_count": 5,
   "metadata": {},
   "outputs": [],
   "source": [
    "from Insurance.constants import *\n",
    "from Insurance.utils import read_yaml, create_directories"
   ]
  },
  {
   "cell_type": "code",
   "execution_count": 6,
   "metadata": {},
   "outputs": [],
   "source": [
    "\n",
    "\n",
    "class ConfigurationManager:\n",
    "    def __init__(\n",
    "        self, \n",
    "        config_filepath = CONFIG_FILE_PATH,\n",
    "        model_filepath = MODEL_FILE_PATH,\n",
    "        schema_filepath=SCHEMA_FILE_PATH,\n",
    "        time_stamp=CURRENT_TIME_STAMP):\n",
    "        self.config = read_yaml(config_filepath)\n",
    "        self.model = read_yaml(model_filepath)\n",
    "        self.schema=read_yaml(schema_filepath)\n",
    "        self.time_stamp=time_stamp\n",
    "        create_directories([self.config.artifacts_root])\n",
    "\n",
    "    def get_data_ingestion_config(self) -> DataIngestionConfig:\n",
    "        config = self.config.data_ingestion\n",
    "        data_ingestion_artifact_dir=os.path.join(config.root_dir,self.time_stamp)\n",
    "\n",
    "        create_directories([data_ingestion_artifact_dir])\n",
    "\n",
    "        data_ingestion_config = DataIngestionConfig(\n",
    "            root_dir=data_ingestion_artifact_dir,\n",
    "            source_data_path=config.source_data_path,\n",
    "            source_file= config.source_file,\n",
    "            raw_dir=os.path.join(data_ingestion_artifact_dir,config.raw_dir),\n",
    "            ingested_train_dir=os.path.join(data_ingestion_artifact_dir,config.ingested_train_dir),\n",
    "            ingested_test_dir=os.path.join(data_ingestion_artifact_dir,config.ingested_test_dir)\n",
    "        )\n",
    "\n",
    "        return data_ingestion_config"
   ]
  },
  {
   "cell_type": "code",
   "execution_count": 7,
   "metadata": {},
   "outputs": [],
   "source": [
    "from distutils.command.config import config\n",
    "import os,shutil, sys\n",
    "from  Insurance.exception import InsuranceException\n",
    "import pandas as pd\n",
    "import numpy as np\n",
    "from sklearn.model_selection import StratifiedShuffleSplit\n",
    "from Insurance.logger import logging\n",
    "\n",
    "\n",
    "class DataIngestion:\n",
    "    def __init__(self, config: DataIngestionConfig):\n",
    "        self.config = config\n",
    "        \n",
    "        self.raw_data_file=os.path.join(self.config.raw_dir,self.config.source_file)\n",
    "\n",
    "    def get_insurance_data(self)  :\n",
    "        try:\n",
    "            source_file_path=os.path.join(self.config.source_data_path,self.config.source_file)\n",
    "\n",
    "            os.makedirs(os.path.dirname(self.raw_data_file), exist_ok= True)\n",
    "            shutil.copy(source_file_path,self.raw_data_file)\n",
    "            \n",
    "\n",
    "        except Exception as e:\n",
    "            raise InsuranceException(e,sys) from e    \n",
    "        \n",
    "\n",
    "    def test_train_spilt(self) -> DataIngestionArtifact:\n",
    "        try:\n",
    "            df=pd.read_csv(self.raw_data_file)\n",
    "            df[\"exp_cat\"] = pd.cut(\n",
    "                    df[\"expenses\"],\n",
    "                    bins=[0.0, 1500.0, 3000.0, 10000.0, 60000.0, np.inf],\n",
    "                    labels=[1,2,3,4,5]\n",
    "                )\n",
    "\n",
    "            logging.info(f\"Splitting data into train and test\")\n",
    "            strat_train_set = None\n",
    "            strat_test_set = None    \n",
    "\n",
    "            split = StratifiedShuffleSplit(n_splits=1, test_size=0.2, random_state=42)  \n",
    "\n",
    "            for train_index,test_index in split.split(df, df[\"exp_cat\"]):\n",
    "                strat_train_set = df.loc[train_index].drop([\"exp_cat\"],axis=1)\n",
    "                strat_test_set = df.loc[test_index].drop([\"exp_cat\"],axis=1)  \n",
    "\n",
    "            train_file_path = os.path.join(self.config.ingested_train_dir,\n",
    "                                                self.config.source_file)\n",
    "\n",
    "            test_file_path = os.path.join(self.config.ingested_test_dir,\n",
    "                                            self.config.source_file)\n",
    "\n",
    "            if strat_train_set is not None:\n",
    "                    os.makedirs(self.config.ingested_train_dir,exist_ok=True)\n",
    "                    logging.info(f\"Exporting training datset to file: [{train_file_path}]\")\n",
    "                    strat_train_set.to_csv(train_file_path,index=False)\n",
    "\n",
    "            if strat_test_set is not None:\n",
    "                    os.makedirs(self.config.ingested_test_dir, exist_ok= True)\n",
    "                    logging.info(f\"Exporting test dataset to file: [{test_file_path}]\")\n",
    "                    strat_test_set.to_csv(test_file_path,index=False) \n",
    "\n",
    "            data_injestion_artifact=DataIngestionArtifact(\n",
    "                            train_file_path= train_file_path,\n",
    "                            test_file_path= test_file_path,\n",
    "                            is_ingested= True,\n",
    "                            message=f\"Data Injestion stage is completed.\"\n",
    "                            \n",
    "                )                                      \n",
    "            logging.info(f\"Data Ingestion artifact:[{data_injestion_artifact}]\")\n",
    "\n",
    "            return data_injestion_artifact\n",
    "\n",
    "        except Exception as e:\n",
    "            raise InsuranceException(e,sys) from e  \n",
    "\n",
    "    def initiate_data_ingestion(self)-> DataIngestionArtifact:\n",
    "        try:\n",
    "            self.get_insurance_data()\n",
    "            return self.test_train_spilt()\n",
    "        except Exception as e:\n",
    "            raise InsuranceException(e,sys) from e \n",
    "\n",
    "    def __del__(self):\n",
    "        logging.info(f\"{'>>'*20}Data Ingestion log completed.{'<<'*20} \\n\\n\")                  \n",
    "            \n"
   ]
  },
  {
   "cell_type": "code",
   "execution_count": 8,
   "metadata": {},
   "outputs": [],
   "source": [
    "try:\n",
    "    config = ConfigurationManager()\n",
    "    data_ingestion_config = config.get_data_ingestion_config()\n",
    "    data_ingestion = DataIngestion(config=data_ingestion_config)\n",
    "    data_injestion_artifact=data_ingestion.initiate_data_ingestion()\n",
    "    \n",
    "except Exception as e:\n",
    "    raise InsuranceException(e,sys) from e"
   ]
  },
  {
   "cell_type": "code",
   "execution_count": 9,
   "metadata": {},
   "outputs": [
    {
     "data": {
      "text/plain": [
       "DataIngestionArtifact(train_file_path='artifacts/data_ingestion\\\\2022-10-09-15-39-44\\\\train\\\\insurance.csv', test_file_path='artifacts/data_ingestion\\\\2022-10-09-15-39-44\\\\test\\\\insurance.csv', is_ingested=True, message='Data Injestion stage is completed.')"
      ]
     },
     "execution_count": 9,
     "metadata": {},
     "output_type": "execute_result"
    }
   ],
   "source": [
    "data_injestion_artifact"
   ]
  },
  {
   "cell_type": "code",
   "execution_count": 10,
   "metadata": {},
   "outputs": [
    {
     "ename": "ModuleNotFoundError",
     "evalue": "No module named 'Insurance.entity.config_entity'",
     "output_type": "error",
     "traceback": [
      "\u001b[1;31m---------------------------------------------------------------------------\u001b[0m",
      "\u001b[1;31mModuleNotFoundError\u001b[0m                       Traceback (most recent call last)",
      "Cell \u001b[1;32mIn [10], line 1\u001b[0m\n\u001b[1;32m----> 1\u001b[0m \u001b[39mfrom\u001b[39;00m \u001b[39mInsurance\u001b[39;00m\u001b[39m.\u001b[39;00m\u001b[39mentity\u001b[39;00m\u001b[39m.\u001b[39;00m\u001b[39mconfig_entity\u001b[39;00m \u001b[39mimport\u001b[39;00m DataIngestionConfig\n",
      "\u001b[1;31mModuleNotFoundError\u001b[0m: No module named 'Insurance.entity.config_entity'"
     ]
    }
   ],
   "source": [
    "from Insurance.entity.config_entity import DataIngestionConfig"
   ]
  },
  {
   "cell_type": "code",
   "execution_count": null,
   "metadata": {},
   "outputs": [],
   "source": []
  }
 ],
 "metadata": {
  "kernelspec": {
   "display_name": "Python 3.8.13 64-bit ('ins')",
   "language": "python",
   "name": "python3"
  },
  "language_info": {
   "codemirror_mode": {
    "name": "ipython",
    "version": 3
   },
   "file_extension": ".py",
   "mimetype": "text/x-python",
   "name": "python",
   "nbconvert_exporter": "python",
   "pygments_lexer": "ipython3",
   "version": "3.8.13"
  },
  "orig_nbformat": 4,
  "vscode": {
   "interpreter": {
    "hash": "099fc278244fdcd3dd05ecbfff3178e9e0c4ee93bd0255347755c14d71462e8c"
   }
  }
 },
 "nbformat": 4,
 "nbformat_minor": 2
}
